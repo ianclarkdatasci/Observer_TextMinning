{
 "cells": [
  {
   "cell_type": "markdown",
   "metadata": {},
   "source": [
    "Python script for data cleaning\n",
    "General idea is to: process data into R ingestiable format here, save, and load into R for text analysis"
   ]
  },
  {
   "cell_type": "code",
   "execution_count": null,
   "metadata": {
    "collapsed": false
   },
   "outputs": [],
   "source": [
    "import os\n",
    "from xml.dom import minidom\n",
    "import json\n",
    "import pandas as pd"
   ]
  },
  {
   "cell_type": "code",
   "execution_count": null,
   "metadata": {
    "collapsed": false
   },
   "outputs": [],
   "source": [
    "cd ~/Dropbox/Upwork/Observer/nyoobserver.wordpress.com-2016-09-19-17_54_39"
   ]
  },
  {
   "cell_type": "code",
   "execution_count": null,
   "metadata": {
    "collapsed": false
   },
   "outputs": [],
   "source": [
    "#Some XML files have a formating problem. Need to fix this...\n",
    "\n",
    "def prepare_data(write=True):\n",
    "\n",
    "    #init empty dict\n",
    "    data = {'title':[], 'author':[]  ,'pubdate':[],'content':[], 'label':[]}\n",
    "\n",
    "    #loop through all files\n",
    "    for xmldoc in os.listdir('.'):\n",
    "        #try/except block to handel errors in XML encoding...\n",
    "        try:\n",
    "            xmldoc = minidom.parse(xmldoc)\n",
    "            nb_docs = len(xmldoc.getElementsByTagName('item'))\n",
    "        except:\n",
    "            continue\n",
    "    #for a single xml file, extract all content\n",
    "    #for now lets downsample by a factor a 500 \n",
    "        for i in range(0, nb_docs/500):\n",
    "\n",
    "            title = xmldoc.getElementsByTagName('wp:post_name')[i].firstChild.nodeValue\n",
    "            try:\n",
    "                author = xmldoc.getElementsByTagName('item')[i].getElementsByTagName('category')[1].firstChild.nodeValue\n",
    "            except:\n",
    "                author = None\n",
    "            pubdate = xmldoc.getElementsByTagName('pubDate')[i].firstChild.nodeValue\n",
    "            try:\n",
    "                content = xmldoc.getElementsByTagName('content:encoded')[i].firstChild.nodeValue\n",
    "            except:\n",
    "                content = None\n",
    "\n",
    "            try:\n",
    "                label = xmldoc.getElementsByTagName('item')[i].getElementsByTagName('category')[0].firstChild.nodeValue\n",
    "            except:\n",
    "                label = None\n",
    "\n",
    "\n",
    "            data['title'].append(title)\n",
    "            data['author'].append(author)\n",
    "            data['pubdate'].append(pubdate)\n",
    "            data['content'].append(content)\n",
    "            #TODO:check to make sure correct label....\n",
    "            data['label'].append(label)\n",
    "            \n",
    "    dataframe = pd.DataFrame.from_dict(data)\n",
    "    dataframe = dataframe[dataframe['content'] != None]\n",
    "    \n",
    "    if write == True:\n",
    "        #write to json\n",
    "        dataframe.to_json(/Dropbox/Upwork/Observer/Clean_data)\n",
    "\n",
    "    return dataframe\n"
   ]
  }
 ],
 "metadata": {
  "kernelspec": {
   "display_name": "Python [Root]",
   "language": "python",
   "name": "Python [Root]"
  },
  "language_info": {
   "codemirror_mode": {
    "name": "ipython",
    "version": 2
   },
   "file_extension": ".py",
   "mimetype": "text/x-python",
   "name": "python",
   "nbconvert_exporter": "python",
   "pygments_lexer": "ipython2",
   "version": "2.7.11"
  }
 },
 "nbformat": 4,
 "nbformat_minor": 0
}
